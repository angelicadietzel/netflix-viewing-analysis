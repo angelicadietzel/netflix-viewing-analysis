{
 "cells": [
  {
   "cell_type": "markdown",
   "metadata": {},
   "source": [
    "# How Much Time Have I Spent Watching Schitt's Creek?"
   ]
  },
  {
   "cell_type": "markdown",
   "metadata": {},
   "source": [
    "## Introduction"
   ]
  },
  {
   "cell_type": "markdown",
   "metadata": {},
   "source": [
    "This is a question that has run through my head repeatedly over the years. The beloved sitcom has been my top \"comfort show/background noise\" choice since its inception.\n",
    "\n",
    "Netflix allows you to download a veritable treasure-trove of data about your account, and, with just a little bit of programming, I can now get a concrete answer to the question: how much time have I spent watching Schitt's Creek?"
   ]
  },
  {
   "cell_type": "markdown",
   "metadata": {},
   "source": [
    "## Objective"
   ]
  },
  {
   "cell_type": "markdown",
   "metadata": {},
   "source": [
    "My goal for this project is to analyze Netflix data to help me understand my viewing habits. Possible questions to be answered:\n",
    "\n",
    "- How much time have I spent watching Schitt's Creek?\n",
    "- When do I watch Schitt's Creek? \n",
    "- What day of the week do I watch Schitt's Creek the most? \n",
    "- Which hours did I watch Schitt's Creek the most?\n",
    "- Visualize my viewing habits "
   ]
  },
  {
   "cell_type": "markdown",
   "metadata": {},
   "source": [
    "## Get Data"
   ]
  },
  {
   "cell_type": "markdown",
   "metadata": {},
   "source": [
    "Netflix allows you to download reports on your data. To get the data, I used this [link](https://www.netflix.com/account/getmyinfo)."
   ]
  },
  {
   "cell_type": "markdown",
   "metadata": {},
   "source": [
    "## Underst Data"
   ]
  },
  {
   "cell_type": "markdown",
   "metadata": {},
   "source": [
    "After requesting my data from Netflix, you recieve a zip folder that looks like this: "
   ]
  },
  {
   "cell_type": "markdown",
   "metadata": {},
   "source": [
    "<img src=\"zip.png\"> "
   ]
  },
  {
   "cell_type": "markdown",
   "metadata": {},
   "source": [
    "The goal here is to figure out how much time I've spent watching Netflix. `Content Interaction` holds the data we're looking for, saved as a CSV called `ViewingActivity.csv`. Here's a screenshot sample of what my data looks like:"
   ]
  },
  {
   "cell_type": "markdown",
   "metadata": {},
   "source": [
    "<img src=\"sample.png\">"
   ]
  },
  {
   "cell_type": "markdown",
   "metadata": {},
   "source": [
    "Looking at the data, I can quickly spot one potential challenge. There's a single column, Title, that holds both show and episode titles, so I'll need to do a little extra work to filter for only episodes of Schitt's Creek.\n",
    "\n",
    "Diving deeper, in the downloaded zip file, there's a file called `Cover sheet.pdf` that contains data dictionaries for all of the .csv files, including `ViewingActivity.csv`.\n",
    "\n",
    "This data dictionary can help us answer questions and avoid errors. For example, consulting the dictionary for ViewingActivity.csv, we can see that the column `Start Time` uses the UTC timezone. To analyze which times of day I most often watch Netflix, I'll need to convert this column to my local timezone."
   ]
  },
  {
   "cell_type": "markdown",
   "metadata": {},
   "source": [
    "## Load Data"
   ]
  },
  {
   "cell_type": "code",
   "execution_count": 15,
   "metadata": {},
   "outputs": [],
   "source": [
    "import pandas as pd\n",
    "\n",
    "df = pd.read_csv('ViewingActivity.csv')"
   ]
  },
  {
   "cell_type": "markdown",
   "metadata": {},
   "source": [
    "\n"
   ]
  },
  {
   "cell_type": "code",
   "execution_count": 17,
   "metadata": {},
   "outputs": [
    {
     "data": {
      "text/plain": [
       "(6088, 10)"
      ]
     },
     "execution_count": 17,
     "metadata": {},
     "output_type": "execute_result"
    }
   ],
   "source": [
    "df.shape"
   ]
  },
  {
   "cell_type": "markdown",
   "metadata": {},
   "source": [
    "I have 27,353 rows and 10 columns in my dataset. "
   ]
  },
  {
   "cell_type": "code",
   "execution_count": 18,
   "metadata": {},
   "outputs": [
    {
     "data": {
      "text/html": [
       "<div>\n",
       "<style scoped>\n",
       "    .dataframe tbody tr th:only-of-type {\n",
       "        vertical-align: middle;\n",
       "    }\n",
       "\n",
       "    .dataframe tbody tr th {\n",
       "        vertical-align: top;\n",
       "    }\n",
       "\n",
       "    .dataframe thead th {\n",
       "        text-align: right;\n",
       "    }\n",
       "</style>\n",
       "<table border=\"1\" class=\"dataframe\">\n",
       "  <thead>\n",
       "    <tr style=\"text-align: right;\">\n",
       "      <th></th>\n",
       "      <th>Profile Name</th>\n",
       "      <th>Start Time</th>\n",
       "      <th>Duration</th>\n",
       "      <th>Attributes</th>\n",
       "      <th>Title</th>\n",
       "      <th>Supplemental Video Type</th>\n",
       "      <th>Device Type</th>\n",
       "      <th>Bookmark</th>\n",
       "      <th>Latest Bookmark</th>\n",
       "      <th>Country</th>\n",
       "    </tr>\n",
       "  </thead>\n",
       "  <tbody>\n",
       "    <tr>\n",
       "      <th>0</th>\n",
       "      <td>Angelica</td>\n",
       "      <td>2021-01-24 21:19:10</td>\n",
       "      <td>00:00:33</td>\n",
       "      <td>Autoplayed: user action: None;</td>\n",
       "      <td>Peppermint_hook_primary_16x9</td>\n",
       "      <td>HOOK</td>\n",
       "      <td>Apple iPhone XR</td>\n",
       "      <td>00:00:33</td>\n",
       "      <td>00:00:33</td>\n",
       "      <td>US (United States)</td>\n",
       "    </tr>\n",
       "    <tr>\n",
       "      <th>1</th>\n",
       "      <td>Angelica</td>\n",
       "      <td>2021-01-24 21:18:30</td>\n",
       "      <td>00:00:22</td>\n",
       "      <td>Autoplayed: user action: None;</td>\n",
       "      <td>The Foreigner_hook_primary_16x9</td>\n",
       "      <td>HOOK</td>\n",
       "      <td>Apple iPhone XR</td>\n",
       "      <td>00:00:23</td>\n",
       "      <td>00:00:23</td>\n",
       "      <td>US (United States)</td>\n",
       "    </tr>\n",
       "    <tr>\n",
       "      <th>2</th>\n",
       "      <td>Angelica</td>\n",
       "      <td>2021-01-24 21:18:03</td>\n",
       "      <td>00:00:24</td>\n",
       "      <td>Autoplayed: user action: None;</td>\n",
       "      <td>Homefront_hook_primary_16x9</td>\n",
       "      <td>HOOK</td>\n",
       "      <td>Apple iPhone XR</td>\n",
       "      <td>00:00:24</td>\n",
       "      <td>00:00:24</td>\n",
       "      <td>US (United States)</td>\n",
       "    </tr>\n",
       "    <tr>\n",
       "      <th>3</th>\n",
       "      <td>Angelica</td>\n",
       "      <td>2021-01-23 08:04:00</td>\n",
       "      <td>00:15:59</td>\n",
       "      <td>Autoplayed: user action: Unspecified;</td>\n",
       "      <td>The White Tiger</td>\n",
       "      <td>NaN</td>\n",
       "      <td>LG 2019 RTK K5Lp Standard UHD TV Smart TV</td>\n",
       "      <td>00:16:18</td>\n",
       "      <td>00:16:18</td>\n",
       "      <td>US (United States)</td>\n",
       "    </tr>\n",
       "    <tr>\n",
       "      <th>4</th>\n",
       "      <td>Angelica</td>\n",
       "      <td>2021-01-23 07:43:20</td>\n",
       "      <td>00:00:05</td>\n",
       "      <td>Autoplayed: user action: None;</td>\n",
       "      <td>Trailer: The White Tiger</td>\n",
       "      <td>TRAILER</td>\n",
       "      <td>LG 2019 RTK K5Lp Standard UHD TV Smart TV</td>\n",
       "      <td>00:00:05</td>\n",
       "      <td>00:00:05</td>\n",
       "      <td>US (United States)</td>\n",
       "    </tr>\n",
       "  </tbody>\n",
       "</table>\n",
       "</div>"
      ],
      "text/plain": [
       "  Profile Name           Start Time  Duration  \\\n",
       "0     Angelica  2021-01-24 21:19:10  00:00:33   \n",
       "1     Angelica  2021-01-24 21:18:30  00:00:22   \n",
       "2     Angelica  2021-01-24 21:18:03  00:00:24   \n",
       "3     Angelica  2021-01-23 08:04:00  00:15:59   \n",
       "4     Angelica  2021-01-23 07:43:20  00:00:05   \n",
       "\n",
       "                               Attributes                            Title  \\\n",
       "0         Autoplayed: user action: None;      Peppermint_hook_primary_16x9   \n",
       "1         Autoplayed: user action: None;   The Foreigner_hook_primary_16x9   \n",
       "2         Autoplayed: user action: None;       Homefront_hook_primary_16x9   \n",
       "3  Autoplayed: user action: Unspecified;                   The White Tiger   \n",
       "4         Autoplayed: user action: None;          Trailer: The White Tiger   \n",
       "\n",
       "  Supplemental Video Type                                Device Type  \\\n",
       "0                    HOOK                            Apple iPhone XR   \n",
       "1                    HOOK                            Apple iPhone XR   \n",
       "2                    HOOK                            Apple iPhone XR   \n",
       "3                     NaN  LG 2019 RTK K5Lp Standard UHD TV Smart TV   \n",
       "4                 TRAILER  LG 2019 RTK K5Lp Standard UHD TV Smart TV   \n",
       "\n",
       "   Bookmark Latest Bookmark             Country  \n",
       "0  00:00:33        00:00:33  US (United States)  \n",
       "1  00:00:23        00:00:23  US (United States)  \n",
       "2  00:00:24        00:00:24  US (United States)  \n",
       "3  00:16:18        00:16:18  US (United States)  \n",
       "4  00:00:05        00:00:05  US (United States)  "
      ]
     },
     "execution_count": 18,
     "metadata": {},
     "output_type": "execute_result"
    }
   ],
   "source": [
    "df.head()"
   ]
  },
  {
   "cell_type": "markdown",
   "metadata": {},
   "source": [
    "# Clean Data"
   ]
  },
  {
   "cell_type": "markdown",
   "metadata": {},
   "source": [
    "## Dropping Unnecessary Columns"
   ]
  },
  {
   "cell_type": "markdown",
   "metadata": {},
   "source": [
    "I'll start by dropping the columns I'm not planning to use. I like to work with a dataframe that includes only columns I'll actually use while working on smaller projects. \n",
    "\n",
    "I plan to analyze how much and when I've watched Schitt's Creek, so I'll need to keep the `Start Time`, `Duration`, and `Title` columns. Everything else can go."
   ]
  },
  {
   "cell_type": "code",
   "execution_count": 20,
   "metadata": {},
   "outputs": [
    {
     "data": {
      "text/html": [
       "<div>\n",
       "<style scoped>\n",
       "    .dataframe tbody tr th:only-of-type {\n",
       "        vertical-align: middle;\n",
       "    }\n",
       "\n",
       "    .dataframe tbody tr th {\n",
       "        vertical-align: top;\n",
       "    }\n",
       "\n",
       "    .dataframe thead th {\n",
       "        text-align: right;\n",
       "    }\n",
       "</style>\n",
       "<table border=\"1\" class=\"dataframe\">\n",
       "  <thead>\n",
       "    <tr style=\"text-align: right;\">\n",
       "      <th></th>\n",
       "      <th>Start Time</th>\n",
       "      <th>Duration</th>\n",
       "      <th>Title</th>\n",
       "    </tr>\n",
       "  </thead>\n",
       "  <tbody>\n",
       "    <tr>\n",
       "      <th>0</th>\n",
       "      <td>2021-01-24 21:19:10</td>\n",
       "      <td>00:00:33</td>\n",
       "      <td>Peppermint_hook_primary_16x9</td>\n",
       "    </tr>\n",
       "  </tbody>\n",
       "</table>\n",
       "</div>"
      ],
      "text/plain": [
       "            Start Time  Duration                         Title\n",
       "0  2021-01-24 21:19:10  00:00:33  Peppermint_hook_primary_16x9"
      ]
     },
     "execution_count": 20,
     "metadata": {},
     "output_type": "execute_result"
    }
   ],
   "source": [
    "df = df.drop(['Profile Name', 'Attributes', 'Supplemental Video Type', 'Device Type', 'Bookmark', 'Latest Bookmark', 'Country'], axis=1)\n",
    "df.head(1)"
   ]
  },
  {
   "cell_type": "markdown",
   "metadata": {},
   "source": [
    "## Convert Strings to Datetime and Timedelta in Pandas"
   ]
  },
  {
   "cell_type": "markdown",
   "metadata": {},
   "source": [
    "### Start Time"
   ]
  },
  {
   "cell_type": "markdown",
   "metadata": {},
   "source": [
    "While the data in `Start Time` and `Duration` columns look correct, I'll double check to see what data types I'm working with."
   ]
  },
  {
   "cell_type": "code",
   "execution_count": 24,
   "metadata": {},
   "outputs": [
    {
     "data": {
      "text/plain": [
       "Start Time    object\n",
       "Duration      object\n",
       "Title         object\n",
       "dtype: object"
      ]
     },
     "execution_count": 24,
     "metadata": {},
     "output_type": "execute_result"
    }
   ],
   "source": [
    "df.dtypes"
   ]
  },
  {
   "cell_type": "markdown",
   "metadata": {},
   "source": [
    "All three columns are stored as `object`, which means they're `strings`. I'll change the two time-related columns into the correct datatypes."
   ]
  },
  {
   "cell_type": "code",
   "execution_count": 25,
   "metadata": {},
   "outputs": [
    {
     "data": {
      "text/plain": [
       "Start Time    datetime64[ns, UTC]\n",
       "Duration                   object\n",
       "Title                      object\n",
       "dtype: object"
      ]
     },
     "execution_count": 25,
     "metadata": {},
     "output_type": "execute_result"
    }
   ],
   "source": [
    "df['Start Time'] = pd.to_datetime(df['Start Time'], utc=True)\n",
    "df.dtypes"
   ]
  },
  {
   "cell_type": "markdown",
   "metadata": {},
   "source": [
    "Now that I have `Start Time` in the correct format, I'll convert the timezone to US/Pacific. "
   ]
  },
  {
   "cell_type": "code",
   "execution_count": 28,
   "metadata": {},
   "outputs": [
    {
     "data": {
      "text/html": [
       "<div>\n",
       "<style scoped>\n",
       "    .dataframe tbody tr th:only-of-type {\n",
       "        vertical-align: middle;\n",
       "    }\n",
       "\n",
       "    .dataframe tbody tr th {\n",
       "        vertical-align: top;\n",
       "    }\n",
       "\n",
       "    .dataframe thead th {\n",
       "        text-align: right;\n",
       "    }\n",
       "</style>\n",
       "<table border=\"1\" class=\"dataframe\">\n",
       "  <thead>\n",
       "    <tr style=\"text-align: right;\">\n",
       "      <th></th>\n",
       "      <th>Start Time</th>\n",
       "      <th>Duration</th>\n",
       "      <th>Title</th>\n",
       "    </tr>\n",
       "  </thead>\n",
       "  <tbody>\n",
       "    <tr>\n",
       "      <th>0</th>\n",
       "      <td>2021-01-24 13:19:10-08:00</td>\n",
       "      <td>00:00:33</td>\n",
       "      <td>Peppermint_hook_primary_16x9</td>\n",
       "    </tr>\n",
       "  </tbody>\n",
       "</table>\n",
       "</div>"
      ],
      "text/plain": [
       "                 Start Time  Duration                         Title\n",
       "0 2021-01-24 13:19:10-08:00  00:00:33  Peppermint_hook_primary_16x9"
      ]
     },
     "execution_count": 28,
     "metadata": {},
     "output_type": "execute_result"
    }
   ],
   "source": [
    "# change the Start Time column into the dataframe's index (we can only use .tz_convert() on a DatetimeIndex, so \n",
    "# we need to set our Start Time column as the index using set_index() before we perform the conversion.)\n",
    "df = df.set_index('Start Time')\n",
    "\n",
    "# convert from UTC timezone to Pacific time\n",
    "df.index = df.index.tz_convert('US/Pacific')\n",
    "\n",
    "# reset the index so that Start Time becomes a column again\n",
    "df = df.reset_index()\n",
    "\n",
    "# double-check that it worked\n",
    "df.head(1)"
   ]
  },
  {
   "cell_type": "markdown",
   "metadata": {},
   "source": [
    "This is correct, because the previous first row in our dataset had a `Start Time` of 2021-01-24 21:19:10. During Daylight Savings Time, the U.S. Pacific time zone is eight hours behind UTC, so we can see that our conversion has executed correctly!"
   ]
  },
  {
   "cell_type": "markdown",
   "metadata": {},
   "source": [
    "### Duration"
   ]
  },
  {
   "cell_type": "markdown",
   "metadata": {},
   "source": [
    "The duration suggests a measure of a length of time. I'll convert it to a timedelta, which is a measure of time duration that pandas understands."
   ]
  },
  {
   "cell_type": "code",
   "execution_count": 30,
   "metadata": {},
   "outputs": [
    {
     "data": {
      "text/plain": [
       "Start Time    datetime64[ns, US/Pacific]\n",
       "Duration                 timedelta64[ns]\n",
       "Title                             object\n",
       "dtype: object"
      ]
     },
     "execution_count": 30,
     "metadata": {},
     "output_type": "execute_result"
    }
   ],
   "source": [
    "df['Duration'] = pd.to_timedelta(df['Duration'])\n",
    "df.dtypes"
   ]
  },
  {
   "cell_type": "markdown",
   "metadata": {},
   "source": [
    "## Filtering Title Column"
   ]
  },
  {
   "cell_type": "markdown",
   "metadata": {},
   "source": [
    "I need to filter the `Title` column so that I can analyze only views of Schitt's Creek. I'm going to create a new dataframe called `schitts` and populate it only with rows where the `Title` column contains 'Schitt'."
   ]
  },
  {
   "cell_type": "code",
   "execution_count": 41,
   "metadata": {},
   "outputs": [],
   "source": [
    "# create a new dataframe called Schitts that takes from df\n",
    "# only the rows in which the Title column contains 'Schitt's Creek'\n",
    "schitts = df[df['Title'].str.contains('Schitt', regex=False)]\n"
   ]
  },
  {
   "cell_type": "code",
   "execution_count": 44,
   "metadata": {},
   "outputs": [
    {
     "data": {
      "text/plain": [
       "(161, 3)"
      ]
     },
     "execution_count": 44,
     "metadata": {},
     "output_type": "execute_result"
    }
   ],
   "source": [
    "schitts.shape"
   ]
  },
  {
   "cell_type": "markdown",
   "metadata": {},
   "source": [
    "## Filter Out Short Durations"
   ]
  },
  {
   "cell_type": "markdown",
   "metadata": {},
   "source": [
    "I noticed in my data exploration that when something like an episode preview auto-plays on the homepage, it counts as a view in our data.\n",
    "\n",
    "However, watching two seconds of a trailer as you scroll past isn't the same as actually watching an episode! I'll filter our `schitts` dataframe down a little bit further by limiting it to only rows where the Duration value is greater than one minute. This should effectively count the watchtime for partially watched episodes, while filtering out those short, unavoidable \"preview\" views."
   ]
  },
  {
   "cell_type": "code",
   "execution_count": 46,
   "metadata": {},
   "outputs": [
    {
     "data": {
      "text/plain": [
       "(139, 3)"
      ]
     },
     "execution_count": 46,
     "metadata": {},
     "output_type": "execute_result"
    }
   ],
   "source": [
    "schitts = schitts[(schitts['Duration'] > '0 days 00:01:00')]\n",
    "schitts.shape"
   ]
  },
  {
   "cell_type": "markdown",
   "metadata": {},
   "source": [
    "# Analyzing the Data"
   ]
  },
  {
   "cell_type": "markdown",
   "metadata": {},
   "source": [
    "## How much time have I spent watching Schitt's Creek?"
   ]
  },
  {
   "cell_type": "code",
   "execution_count": 47,
   "metadata": {},
   "outputs": [
    {
     "data": {
      "text/plain": [
       "Timedelta('1 days 18:56:22')"
      ]
     },
     "execution_count": 47,
     "metadata": {},
     "output_type": "execute_result"
    }
   ],
   "source": [
    "schitts['Duration'].sum()"
   ]
  },
  {
   "cell_type": "markdown",
   "metadata": {},
   "source": [
    "## When do I watch Schitt's Creek?"
   ]
  },
  {
   "cell_type": "code",
   "execution_count": 67,
   "metadata": {},
   "outputs": [
    {
     "data": {
      "text/html": [
       "<div>\n",
       "<style scoped>\n",
       "    .dataframe tbody tr th:only-of-type {\n",
       "        vertical-align: middle;\n",
       "    }\n",
       "\n",
       "    .dataframe tbody tr th {\n",
       "        vertical-align: top;\n",
       "    }\n",
       "\n",
       "    .dataframe thead th {\n",
       "        text-align: right;\n",
       "    }\n",
       "</style>\n",
       "<table border=\"1\" class=\"dataframe\">\n",
       "  <thead>\n",
       "    <tr style=\"text-align: right;\">\n",
       "      <th></th>\n",
       "      <th>Start Time</th>\n",
       "      <th>Duration</th>\n",
       "      <th>Title</th>\n",
       "      <th>weekday</th>\n",
       "      <th>hour</th>\n",
       "    </tr>\n",
       "  </thead>\n",
       "  <tbody>\n",
       "    <tr>\n",
       "      <th>705</th>\n",
       "      <td>2020-12-19 01:04:50-08:00</td>\n",
       "      <td>00:07:55</td>\n",
       "      <td>Schitt's Creek: Season 2: Estate Sale (Episode 4)</td>\n",
       "      <td>5</td>\n",
       "      <td>1</td>\n",
       "    </tr>\n",
       "  </tbody>\n",
       "</table>\n",
       "</div>"
      ],
      "text/plain": [
       "                   Start Time Duration  \\\n",
       "705 2020-12-19 01:04:50-08:00 00:07:55   \n",
       "\n",
       "                                                 Title  weekday  hour  \n",
       "705  Schitt's Creek: Season 2: Estate Sale (Episode 4)        5     1  "
      ]
     },
     "execution_count": 67,
     "metadata": {},
     "output_type": "execute_result"
    }
   ],
   "source": [
    "# to bypass chained indexing warning\n",
    "pd.set_option('mode.chained_assignment', None) \n",
    "\n",
    "schitts['weekday'] = schitts['Start Time'].dt.weekday\n",
    "schitts['hour'] = schitts['Start Time'].dt.hour\n",
    "\n",
    "# check to make sure the columns were added correctly\n",
    "schitts.head(1)"
   ]
  },
  {
   "cell_type": "code",
   "execution_count": 52,
   "metadata": {},
   "outputs": [],
   "source": [
    "%matplotlib inline\n",
    "import matplotlib"
   ]
  },
  {
   "cell_type": "code",
   "execution_count": 69,
   "metadata": {},
   "outputs": [
    {
     "data": {
      "text/plain": [
       "<matplotlib.axes._subplots.AxesSubplot at 0x11f639950>"
      ]
     },
     "execution_count": 69,
     "metadata": {},
     "output_type": "execute_result"
    },
    {
     "data": {
      "image/png": "[encoded data removed]",
      "text/plain": [
       "<Figure size 1440x720 with 1 Axes>"
      ]
     },
     "metadata": {
      "needs_background": "light"
     },
     "output_type": "display_data"
    }
   ],
   "source": [
    "# to bypass chained indexing warning\n",
    "pd.set_option('mode.chained_assignment', None)\n",
    "\n",
    "# set our categorical and define the order so the days are plotted Monday-Sunday\n",
    "schitts['weekday'] = pd.Categorical(schitts['weekday'], categories=\n",
    "    [0,1,2,3,4,5,6],\n",
    "    ordered=True)\n",
    "\n",
    "# create office_by_day and count the rows for each weekday, assigning the result to that variable\n",
    "schitts_by_day = schitts['weekday'].value_counts()\n",
    "\n",
    "# sort the index using our categorical, so that Monday (0) is first, Tuesday (1) is second, etc.\n",
    "schitts_by_day = schitts_by_day.sort_index()\n",
    "\n",
    "# optional: update the font size to make it a bit larger and easier to read\n",
    "matplotlib.rcParams.update({'font.size': 13})\n",
    "\n",
    "# plot office_by_day as a bar chart with the listed size and title\n",
    "schitts_by_day.plot(kind='bar', figsize=(20,10), title='Schitts Creek Episodes Watched by Day')\n"
   ]
  },
  {
   "cell_type": "markdown",
   "metadata": {},
   "source": [
    "I've tended to watch Schitt's Creek more during the week than on weekends.\n",
    "\n",
    "Now, let's take a look at the same data by hour. The process here is very similar to what we just did above:"
   ]
  },
  {
   "cell_type": "code",
   "execution_count": 71,
   "metadata": {},
   "outputs": [
    {
     "data": {
      "text/plain": [
       "<matplotlib.axes._subplots.AxesSubplot at 0x11d55b9d0>"
      ]
     },
     "execution_count": 71,
     "metadata": {},
     "output_type": "execute_result"
    },
    {
     "data": {
      "image/png": "[encoded data removed]",
      "text/plain": [
       "<Figure size 1440x720 with 1 Axes>"
      ]
     },
     "metadata": {
      "needs_background": "light"
     },
     "output_type": "display_data"
    }
   ],
   "source": [
    "# to bypass chained indexing warning\n",
    "pd.set_option('mode.chained_assignment', None)\n",
    "\n",
    "# set our categorical and define the order so the hours are plotted 0-23\n",
    "schitts['hour'] = pd.Categorical(schitts['hour'], categories=\n",
    "    [0,1,2,3,4,5,6,7,8,9,10,11,12,13,14,15,16,17,18,19,20,21,22,23],\n",
    "    ordered=True)\n",
    "\n",
    "# create office_by_hour and count the rows for each hour, assigning the result to that variable\n",
    "schitts_by_hour = schitts['hour'].value_counts()\n",
    "\n",
    "# sort the index using our categorical, so that midnight (0) is first, 1 a.m. (1) is second, etc.\n",
    "schitts_by_hour = schitts_by_hour.sort_index()\n",
    "\n",
    "# plot office_by_hour as a bar chart with the listed size and title\n",
    "schitts_by_hour.plot(kind='bar', figsize=(20,10), title='Schitts Creek Episodes Watched by Hour')"
   ]
  },
  {
   "cell_type": "markdown",
   "metadata": {},
   "source": [
    "From the data, it looks like 11 p.m. to 1 a.m. were the hours during which I most often started episodes of Schitt's Creek. This is due to my (unhealthy) habit of using the show as white noise while going to sleep — many of these episodes probably auto-played while I was already asleep!\n",
    "\n",
    "Outside of that, it's no surprise to see that most of my viewing happened during the evenings."
   ]
  },
  {
   "cell_type": "markdown",
   "metadata": {},
   "source": [
    "# Conclusion"
   ]
  },
  {
   "cell_type": "markdown",
   "metadata": {},
   "source": [
    "I've taken a quick dive into some personal Netflix data and learned that — among other things — I watch Schitt's Creek too much."
   ]
  }
 ],
 "metadata": {
  "kernelspec": {
   "display_name": "Python 3",
   "language": "python",
   "name": "python3"
  },
  "language_info": {
   "codemirror_mode": {
    "name": "ipython",
    "version": 3
   },
   "file_extension": ".py",
   "mimetype": "text/x-python",
   "name": "python",
   "nbconvert_exporter": "python",
   "pygments_lexer": "ipython3",
   "version": "3.7.6"
  }
 },
 "nbformat": 4,
 "nbformat_minor": 4
}
